{
  "nbformat": 4,
  "nbformat_minor": 0,
  "metadata": {
    "accelerator": "GPU",
    "colab": {
      "name": "Course 2 - Part 4 - Lesson 4 - Notebook.ipynb",
      "provenance": [],
      "collapsed_sections": []
    },
    "kernelspec": {
      "display_name": "Python 3",
      "name": "python3"
    }
  },
  "cells": [
    {
      "cell_type": "markdown",
      "metadata": {
        "id": "rX8mhOLljYeM"
      },
      "source": [
        "##### Copyright 2019 The TensorFlow Authors."
      ]
    },
    {
      "cell_type": "code",
      "metadata": {
        "cellView": "form",
        "id": "BZSlp3DAjdYf"
      },
      "source": [
        "#@title Licensed under the Apache License, Version 2.0 (the \"License\");\n",
        "# you may not use this file except in compliance with the License.\n",
        "# You may obtain a copy of the License at\n",
        "#\n",
        "# https://www.apache.org/licenses/LICENSE-2.0\n",
        "#\n",
        "# Unless required by applicable law or agreed to in writing, software\n",
        "# distributed under the License is distributed on an \"AS IS\" BASIS,\n",
        "# WITHOUT WARRANTIES OR CONDITIONS OF ANY KIND, either express or implied.\n",
        "# See the License for the specific language governing permissions and\n",
        "# limitations under the License."
      ],
      "execution_count": 1,
      "outputs": []
    },
    {
      "cell_type": "code",
      "metadata": {
        "colab": {
          "base_uri": "https://localhost:8080/"
        },
        "id": "RXZT2UsyIVe_",
        "outputId": "42e75400-ab21-4614-df04-e9a7afb56cf6"
      },
      "source": [
        "!wget --no-check-certificate \\\n",
        "    https://storage.googleapis.com/laurencemoroney-blog.appspot.com/horse-or-human.zip \\\n",
        "    -O /tmp/horse-or-human.zip\n",
        "\n",
        "!wget --no-check-certificate \\\n",
        "    https://storage.googleapis.com/laurencemoroney-blog.appspot.com/validation-horse-or-human.zip \\\n",
        "    -O /tmp/validation-horse-or-human.zip\n",
        "  \n",
        "import os\n",
        "import zipfile\n",
        "\n",
        "local_zip = '/tmp/horse-or-human.zip'\n",
        "zip_ref = zipfile.ZipFile(local_zip, 'r')\n",
        "zip_ref.extractall('/tmp/horse-or-human')\n",
        "local_zip = '/tmp/validation-horse-or-human.zip'\n",
        "zip_ref = zipfile.ZipFile(local_zip, 'r')\n",
        "zip_ref.extractall('/tmp/validation-horse-or-human')\n",
        "zip_ref.close()\n",
        "# Directory with our training horse pictures\n",
        "train_horse_dir = os.path.join('/tmp/horse-or-human/horses')\n",
        "\n",
        "# Directory with our training human pictures\n",
        "train_human_dir = os.path.join('/tmp/horse-or-human/humans')\n",
        "\n",
        "# Directory with our training horse pictures\n",
        "validation_horse_dir = os.path.join('/tmp/validation-horse-or-human/horses')\n",
        "\n",
        "# Directory with our training human pictures\n",
        "validation_human_dir = os.path.join('/tmp/validation-horse-or-human/humans')"
      ],
      "execution_count": 2,
      "outputs": [
        {
          "output_type": "stream",
          "text": [
            "--2021-08-21 02:59:15--  https://storage.googleapis.com/laurencemoroney-blog.appspot.com/horse-or-human.zip\n",
            "Resolving storage.googleapis.com (storage.googleapis.com)... 64.233.189.128, 108.177.97.128, 108.177.125.128, ...\n",
            "Connecting to storage.googleapis.com (storage.googleapis.com)|64.233.189.128|:443... connected.\n",
            "HTTP request sent, awaiting response... 200 OK\n",
            "Length: 149574867 (143M) [application/zip]\n",
            "Saving to: ‘/tmp/horse-or-human.zip’\n",
            "\n",
            "/tmp/horse-or-human 100%[===================>] 142.65M  32.1MB/s    in 4.4s    \n",
            "\n",
            "2021-08-21 02:59:20 (32.1 MB/s) - ‘/tmp/horse-or-human.zip’ saved [149574867/149574867]\n",
            "\n",
            "--2021-08-21 02:59:20--  https://storage.googleapis.com/laurencemoroney-blog.appspot.com/validation-horse-or-human.zip\n",
            "Resolving storage.googleapis.com (storage.googleapis.com)... 74.125.203.128, 74.125.204.128, 64.233.187.128, ...\n",
            "Connecting to storage.googleapis.com (storage.googleapis.com)|74.125.203.128|:443... connected.\n",
            "HTTP request sent, awaiting response... 200 OK\n",
            "Length: 11480187 (11M) [application/zip]\n",
            "Saving to: ‘/tmp/validation-horse-or-human.zip’\n",
            "\n",
            "/tmp/validation-hor 100%[===================>]  10.95M  8.34MB/s    in 1.3s    \n",
            "\n",
            "2021-08-21 02:59:23 (8.34 MB/s) - ‘/tmp/validation-horse-or-human.zip’ saved [11480187/11480187]\n",
            "\n"
          ],
          "name": "stdout"
        }
      ]
    },
    {
      "cell_type": "markdown",
      "metadata": {
        "id": "5oqBkNBJmtUv"
      },
      "source": [
        "## Building a Small Model from Scratch\n",
        "\n",
        "But before we continue, let's start defining the model:\n",
        "\n",
        "Step 1 will be to import tensorflow."
      ]
    },
    {
      "cell_type": "code",
      "metadata": {
        "id": "qvfZg3LQbD-5"
      },
      "source": [
        "import tensorflow as tf"
      ],
      "execution_count": 3,
      "outputs": []
    },
    {
      "cell_type": "markdown",
      "metadata": {
        "id": "BnhYCP4tdqjC"
      },
      "source": [
        "We then add convolutional layers as in the previous example, and flatten the final result to feed into the densely connected layers."
      ]
    },
    {
      "cell_type": "markdown",
      "metadata": {
        "id": "gokG5HKpdtzm"
      },
      "source": [
        "Finally we add the densely connected layers. \n",
        "\n",
        "Note that because we are facing a two-class classification problem, i.e. a *binary classification problem*, we will end our network with a [*sigmoid* activation](https://wikipedia.org/wiki/Sigmoid_function), so that the output of our network will be a single scalar between 0 and 1, encoding the probability that the current image is class 1 (as opposed to class 0)."
      ]
    },
    {
      "cell_type": "code",
      "metadata": {
        "id": "PixZ2s5QbYQ3"
      },
      "source": [
        "model = tf.keras.models.Sequential([\n",
        "    # Note the input shape is the desired size of the image 300x300 with 3 bytes color\n",
        "    # This is the first convolution\n",
        "    tf.keras.layers.Conv2D(16, (3,3), activation='relu', input_shape=(300, 300, 3)),\n",
        "    tf.keras.layers.MaxPooling2D(2, 2),\n",
        "    # The second convolution\n",
        "    tf.keras.layers.Conv2D(32, (3,3), activation='relu'),\n",
        "    tf.keras.layers.MaxPooling2D(2,2),\n",
        "    # The third convolution\n",
        "    tf.keras.layers.Conv2D(64, (3,3), activation='relu'),\n",
        "    tf.keras.layers.MaxPooling2D(2,2),\n",
        "    # The fourth convolution\n",
        "    tf.keras.layers.Conv2D(64, (3,3), activation='relu'),\n",
        "    tf.keras.layers.MaxPooling2D(2,2),\n",
        "    # The fifth convolution\n",
        "    tf.keras.layers.Conv2D(64, (3,3), activation='relu'),\n",
        "    tf.keras.layers.MaxPooling2D(2,2),\n",
        "    # Flatten the results to feed into a DNN\n",
        "    tf.keras.layers.Flatten(),\n",
        "    # 512 neuron hidden layer\n",
        "    tf.keras.layers.Dense(512, activation='relu'),\n",
        "    # Only 1 output neuron. It will contain a value from 0-1 where 0 for 1 class ('horses') and 1 for the other ('humans')\n",
        "    tf.keras.layers.Dense(1, activation='sigmoid')\n",
        "])"
      ],
      "execution_count": 4,
      "outputs": []
    },
    {
      "cell_type": "code",
      "metadata": {
        "colab": {
          "base_uri": "https://localhost:8080/"
        },
        "id": "8DHWhFP_uhq3",
        "outputId": "77412217-8732-4c9a-b10a-776b569c5774"
      },
      "source": [
        "from tensorflow.keras.optimizers import RMSprop\n",
        "\n",
        "model.compile(loss='binary_crossentropy',\n",
        "              optimizer=RMSprop(lr=1e-4),\n",
        "              metrics=['accuracy'])"
      ],
      "execution_count": 5,
      "outputs": [
        {
          "output_type": "stream",
          "text": [
            "/usr/local/lib/python3.7/dist-packages/keras/optimizer_v2/optimizer_v2.py:356: UserWarning: The `lr` argument is deprecated, use `learning_rate` instead.\n",
            "  \"The `lr` argument is deprecated, use `learning_rate` instead.\")\n"
          ],
          "name": "stderr"
        }
      ]
    },
    {
      "cell_type": "code",
      "metadata": {
        "colab": {
          "base_uri": "https://localhost:8080/"
        },
        "id": "ClebU9NJg99G",
        "outputId": "7469aa36-a35e-4f2f-dcd4-508740408734"
      },
      "source": [
        "from tensorflow.keras.preprocessing.image import ImageDataGenerator\n",
        "\n",
        "# All images will be rescaled by 1./255\n",
        "train_datagen = ImageDataGenerator(\n",
        "      rescale=1./255,\n",
        "      rotation_range=40,\n",
        "      width_shift_range=0.2,\n",
        "      height_shift_range=0.2,\n",
        "      shear_range=0.2,\n",
        "      zoom_range=0.2,\n",
        "      horizontal_flip=True,\n",
        "      fill_mode='nearest')\n",
        "\n",
        "validation_datagen = ImageDataGenerator(rescale=1/255)\n",
        "\n",
        "# Flow training images in batches of 128 using train_datagen generator\n",
        "train_generator = train_datagen.flow_from_directory(\n",
        "        '/tmp/horse-or-human/',  # This is the source directory for training images\n",
        "        target_size=(300, 300),  # All images will be resized to 150x150\n",
        "        batch_size=128,\n",
        "        # Since we use binary_crossentropy loss, we need binary labels\n",
        "        class_mode='binary')\n",
        "\n",
        "# Flow training images in batches of 128 using train_datagen generator\n",
        "validation_generator = validation_datagen.flow_from_directory(\n",
        "        '/tmp/validation-horse-or-human/',  # This is the source directory for training images\n",
        "        target_size=(300, 300),  # All images will be resized to 150x150\n",
        "        batch_size=32,\n",
        "        # Since we use binary_crossentropy loss, we need binary labels\n",
        "        class_mode='binary')"
      ],
      "execution_count": 6,
      "outputs": [
        {
          "output_type": "stream",
          "text": [
            "Found 1027 images belonging to 2 classes.\n",
            "Found 256 images belonging to 2 classes.\n"
          ],
          "name": "stdout"
        }
      ]
    },
    {
      "cell_type": "code",
      "metadata": {
        "colab": {
          "base_uri": "https://localhost:8080/"
        },
        "id": "Fb1_lgobv81m",
        "outputId": "fcef41a8-e9cb-4487-d269-9d150f3716fe"
      },
      "source": [
        "history = model.fit(\n",
        "      train_generator,\n",
        "      steps_per_epoch=8,  \n",
        "      epochs=100,\n",
        "      verbose=1,\n",
        "      validation_data = validation_generator,\n",
        "      validation_steps=8)"
      ],
      "execution_count": 7,
      "outputs": [
        {
          "output_type": "stream",
          "text": [
            "Epoch 1/100\n",
            "8/8 [==============================] - 37s 2s/step - loss: 0.6815 - accuracy: 0.5771 - val_loss: 0.6664 - val_accuracy: 0.5000\n",
            "Epoch 2/100\n",
            "8/8 [==============================] - 20s 2s/step - loss: 0.6536 - accuracy: 0.5973 - val_loss: 0.7299 - val_accuracy: 0.5000\n",
            "Epoch 3/100\n",
            "8/8 [==============================] - 20s 2s/step - loss: 0.6463 - accuracy: 0.6496 - val_loss: 0.6087 - val_accuracy: 0.8008\n",
            "Epoch 4/100\n",
            "8/8 [==============================] - 20s 3s/step - loss: 0.6535 - accuracy: 0.7164 - val_loss: 0.6101 - val_accuracy: 0.6328\n",
            "Epoch 5/100\n",
            "8/8 [==============================] - 20s 2s/step - loss: 0.5931 - accuracy: 0.6941 - val_loss: 0.5731 - val_accuracy: 0.6953\n",
            "Epoch 6/100\n",
            "8/8 [==============================] - 20s 2s/step - loss: 0.5938 - accuracy: 0.7208 - val_loss: 0.6454 - val_accuracy: 0.5547\n",
            "Epoch 7/100\n",
            "8/8 [==============================] - 20s 2s/step - loss: 0.5470 - accuracy: 0.7353 - val_loss: 0.6208 - val_accuracy: 0.5898\n",
            "Epoch 8/100\n",
            "8/8 [==============================] - 20s 2s/step - loss: 0.5306 - accuracy: 0.7586 - val_loss: 0.7973 - val_accuracy: 0.5273\n",
            "Epoch 9/100\n",
            "8/8 [==============================] - 20s 2s/step - loss: 0.5109 - accuracy: 0.7575 - val_loss: 0.7123 - val_accuracy: 0.5586\n",
            "Epoch 10/100\n",
            "8/8 [==============================] - 20s 2s/step - loss: 0.5338 - accuracy: 0.7297 - val_loss: 0.6755 - val_accuracy: 0.5820\n",
            "Epoch 11/100\n",
            "8/8 [==============================] - 20s 2s/step - loss: 0.5339 - accuracy: 0.7497 - val_loss: 0.5222 - val_accuracy: 0.6836\n",
            "Epoch 12/100\n",
            "8/8 [==============================] - 20s 2s/step - loss: 0.4856 - accuracy: 0.7853 - val_loss: 0.5328 - val_accuracy: 0.6914\n",
            "Epoch 13/100\n",
            "8/8 [==============================] - 20s 2s/step - loss: 0.4848 - accuracy: 0.7864 - val_loss: 0.7811 - val_accuracy: 0.5938\n",
            "Epoch 14/100\n",
            "8/8 [==============================] - 20s 2s/step - loss: 0.4722 - accuracy: 0.7931 - val_loss: 0.8682 - val_accuracy: 0.5742\n",
            "Epoch 15/100\n",
            "8/8 [==============================] - 20s 2s/step - loss: 0.4897 - accuracy: 0.7675 - val_loss: 1.0160 - val_accuracy: 0.5430\n",
            "Epoch 16/100\n",
            "8/8 [==============================] - 22s 3s/step - loss: 0.4337 - accuracy: 0.7969 - val_loss: 0.9812 - val_accuracy: 0.5781\n",
            "Epoch 17/100\n",
            "8/8 [==============================] - 20s 2s/step - loss: 0.4079 - accuracy: 0.8098 - val_loss: 1.1756 - val_accuracy: 0.5625\n",
            "Epoch 18/100\n",
            "8/8 [==============================] - 20s 2s/step - loss: 0.5452 - accuracy: 0.7330 - val_loss: 1.1298 - val_accuracy: 0.5469\n",
            "Epoch 19/100\n",
            "8/8 [==============================] - 20s 2s/step - loss: 0.4208 - accuracy: 0.7987 - val_loss: 1.1691 - val_accuracy: 0.5742\n",
            "Epoch 20/100\n",
            "8/8 [==============================] - 22s 3s/step - loss: 0.3930 - accuracy: 0.8213 - val_loss: 1.0963 - val_accuracy: 0.5977\n",
            "Epoch 21/100\n",
            "8/8 [==============================] - 20s 2s/step - loss: 0.4554 - accuracy: 0.7864 - val_loss: 1.0202 - val_accuracy: 0.6094\n",
            "Epoch 22/100\n",
            "8/8 [==============================] - 20s 2s/step - loss: 0.4244 - accuracy: 0.8053 - val_loss: 1.0802 - val_accuracy: 0.5898\n",
            "Epoch 23/100\n",
            "8/8 [==============================] - 22s 3s/step - loss: 0.3699 - accuracy: 0.8506 - val_loss: 1.1312 - val_accuracy: 0.6133\n",
            "Epoch 24/100\n",
            "8/8 [==============================] - 20s 2s/step - loss: 0.3911 - accuracy: 0.8154 - val_loss: 1.1901 - val_accuracy: 0.5938\n",
            "Epoch 25/100\n",
            "8/8 [==============================] - 20s 2s/step - loss: 0.3848 - accuracy: 0.8098 - val_loss: 1.0747 - val_accuracy: 0.6172\n",
            "Epoch 26/100\n",
            "8/8 [==============================] - 20s 2s/step - loss: 0.3753 - accuracy: 0.8131 - val_loss: 0.9320 - val_accuracy: 0.6406\n",
            "Epoch 27/100\n",
            "8/8 [==============================] - 20s 3s/step - loss: 0.3704 - accuracy: 0.8265 - val_loss: 1.1990 - val_accuracy: 0.5977\n",
            "Epoch 28/100\n",
            "8/8 [==============================] - 20s 2s/step - loss: 0.3827 - accuracy: 0.8131 - val_loss: 1.2448 - val_accuracy: 0.5898\n",
            "Epoch 29/100\n",
            "8/8 [==============================] - 20s 3s/step - loss: 0.4010 - accuracy: 0.8254 - val_loss: 1.3208 - val_accuracy: 0.5859\n",
            "Epoch 30/100\n",
            "8/8 [==============================] - 20s 2s/step - loss: 0.4314 - accuracy: 0.7942 - val_loss: 1.2803 - val_accuracy: 0.5820\n",
            "Epoch 31/100\n",
            "8/8 [==============================] - 20s 3s/step - loss: 0.3500 - accuracy: 0.8521 - val_loss: 1.5762 - val_accuracy: 0.5586\n",
            "Epoch 32/100\n",
            "8/8 [==============================] - 20s 2s/step - loss: 0.5586 - accuracy: 0.7964 - val_loss: 1.3514 - val_accuracy: 0.5898\n",
            "Epoch 33/100\n",
            "8/8 [==============================] - 20s 2s/step - loss: 0.3247 - accuracy: 0.8598 - val_loss: 1.5495 - val_accuracy: 0.5742\n",
            "Epoch 34/100\n",
            "8/8 [==============================] - 20s 2s/step - loss: 0.3360 - accuracy: 0.8354 - val_loss: 1.4605 - val_accuracy: 0.5898\n",
            "Epoch 35/100\n",
            "8/8 [==============================] - 20s 2s/step - loss: 0.3063 - accuracy: 0.8565 - val_loss: 3.3282 - val_accuracy: 0.5000\n",
            "Epoch 36/100\n",
            "8/8 [==============================] - 20s 3s/step - loss: 0.2842 - accuracy: 0.8832 - val_loss: 1.3563 - val_accuracy: 0.6133\n",
            "Epoch 37/100\n",
            "8/8 [==============================] - 20s 3s/step - loss: 0.3214 - accuracy: 0.8610 - val_loss: 1.7081 - val_accuracy: 0.5703\n",
            "Epoch 38/100\n",
            "8/8 [==============================] - 20s 2s/step - loss: 0.3109 - accuracy: 0.8498 - val_loss: 1.3954 - val_accuracy: 0.6250\n",
            "Epoch 39/100\n",
            "8/8 [==============================] - 20s 2s/step - loss: 0.3166 - accuracy: 0.8498 - val_loss: 2.4270 - val_accuracy: 0.5234\n",
            "Epoch 40/100\n",
            "8/8 [==============================] - 20s 2s/step - loss: 0.3326 - accuracy: 0.8487 - val_loss: 1.5771 - val_accuracy: 0.5859\n",
            "Epoch 41/100\n",
            "8/8 [==============================] - 20s 2s/step - loss: 0.2844 - accuracy: 0.8765 - val_loss: 1.5238 - val_accuracy: 0.6406\n",
            "Epoch 42/100\n",
            "8/8 [==============================] - 20s 2s/step - loss: 0.3655 - accuracy: 0.8354 - val_loss: 1.6657 - val_accuracy: 0.5898\n",
            "Epoch 43/100\n",
            "8/8 [==============================] - 22s 3s/step - loss: 0.3166 - accuracy: 0.8516 - val_loss: 1.1081 - val_accuracy: 0.6602\n",
            "Epoch 44/100\n",
            "8/8 [==============================] - 22s 3s/step - loss: 0.2546 - accuracy: 0.8945 - val_loss: 2.1834 - val_accuracy: 0.5547\n",
            "Epoch 45/100\n",
            "8/8 [==============================] - 20s 2s/step - loss: 0.2653 - accuracy: 0.8832 - val_loss: 3.0168 - val_accuracy: 0.5156\n",
            "Epoch 46/100\n",
            "8/8 [==============================] - 20s 2s/step - loss: 0.3052 - accuracy: 0.8810 - val_loss: 3.0830 - val_accuracy: 0.5039\n",
            "Epoch 47/100\n",
            "8/8 [==============================] - 20s 2s/step - loss: 0.3165 - accuracy: 0.8587 - val_loss: 1.8213 - val_accuracy: 0.5664\n",
            "Epoch 48/100\n",
            "8/8 [==============================] - 20s 2s/step - loss: 0.2762 - accuracy: 0.8732 - val_loss: 2.2809 - val_accuracy: 0.5430\n",
            "Epoch 49/100\n",
            "8/8 [==============================] - 20s 2s/step - loss: 0.2406 - accuracy: 0.9021 - val_loss: 1.2950 - val_accuracy: 0.6641\n",
            "Epoch 50/100\n",
            "8/8 [==============================] - 20s 2s/step - loss: 0.3251 - accuracy: 0.8576 - val_loss: 2.5525 - val_accuracy: 0.5391\n",
            "Epoch 51/100\n",
            "8/8 [==============================] - 20s 2s/step - loss: 0.2661 - accuracy: 0.8910 - val_loss: 1.8390 - val_accuracy: 0.5938\n",
            "Epoch 52/100\n",
            "8/8 [==============================] - 20s 2s/step - loss: 0.2444 - accuracy: 0.8932 - val_loss: 0.7387 - val_accuracy: 0.7773\n",
            "Epoch 53/100\n",
            "8/8 [==============================] - 22s 3s/step - loss: 0.3039 - accuracy: 0.8760 - val_loss: 2.2137 - val_accuracy: 0.5586\n",
            "Epoch 54/100\n",
            "8/8 [==============================] - 20s 2s/step - loss: 0.2183 - accuracy: 0.9088 - val_loss: 2.3647 - val_accuracy: 0.5586\n",
            "Epoch 55/100\n",
            "8/8 [==============================] - 20s 2s/step - loss: 0.3523 - accuracy: 0.8721 - val_loss: 1.5629 - val_accuracy: 0.6328\n",
            "Epoch 56/100\n",
            "8/8 [==============================] - 20s 2s/step - loss: 0.2628 - accuracy: 0.8877 - val_loss: 1.7014 - val_accuracy: 0.6055\n",
            "Epoch 57/100\n",
            "8/8 [==============================] - 20s 2s/step - loss: 0.2138 - accuracy: 0.9121 - val_loss: 1.7267 - val_accuracy: 0.6367\n",
            "Epoch 58/100\n",
            "8/8 [==============================] - 20s 2s/step - loss: 0.2366 - accuracy: 0.9055 - val_loss: 1.3612 - val_accuracy: 0.6836\n",
            "Epoch 59/100\n",
            "8/8 [==============================] - 20s 2s/step - loss: 0.2711 - accuracy: 0.8799 - val_loss: 2.1636 - val_accuracy: 0.5898\n",
            "Epoch 60/100\n",
            "8/8 [==============================] - 22s 3s/step - loss: 0.2212 - accuracy: 0.9160 - val_loss: 2.7022 - val_accuracy: 0.5547\n",
            "Epoch 61/100\n",
            "8/8 [==============================] - 20s 3s/step - loss: 0.4190 - accuracy: 0.8498 - val_loss: 1.9439 - val_accuracy: 0.6055\n",
            "Epoch 62/100\n",
            "8/8 [==============================] - 20s 3s/step - loss: 0.1879 - accuracy: 0.9321 - val_loss: 1.7599 - val_accuracy: 0.6406\n",
            "Epoch 63/100\n",
            "8/8 [==============================] - 20s 2s/step - loss: 0.2262 - accuracy: 0.9077 - val_loss: 2.6099 - val_accuracy: 0.5508\n",
            "Epoch 64/100\n",
            "8/8 [==============================] - 20s 2s/step - loss: 0.1920 - accuracy: 0.9321 - val_loss: 1.8210 - val_accuracy: 0.6328\n",
            "Epoch 65/100\n",
            "8/8 [==============================] - 20s 2s/step - loss: 0.2566 - accuracy: 0.8854 - val_loss: 2.2297 - val_accuracy: 0.6055\n",
            "Epoch 66/100\n",
            "8/8 [==============================] - 20s 2s/step - loss: 0.1974 - accuracy: 0.9232 - val_loss: 1.7693 - val_accuracy: 0.6562\n",
            "Epoch 67/100\n",
            "8/8 [==============================] - 20s 2s/step - loss: 0.2138 - accuracy: 0.9121 - val_loss: 2.3179 - val_accuracy: 0.5977\n",
            "Epoch 68/100\n",
            "8/8 [==============================] - 20s 3s/step - loss: 0.2117 - accuracy: 0.9066 - val_loss: 2.2048 - val_accuracy: 0.6133\n",
            "Epoch 69/100\n",
            "8/8 [==============================] - 22s 3s/step - loss: 0.1851 - accuracy: 0.9248 - val_loss: 3.5306 - val_accuracy: 0.5352\n",
            "Epoch 70/100\n",
            "8/8 [==============================] - 20s 2s/step - loss: 0.2568 - accuracy: 0.8854 - val_loss: 0.7737 - val_accuracy: 0.7461\n",
            "Epoch 71/100\n",
            "8/8 [==============================] - 20s 2s/step - loss: 0.2034 - accuracy: 0.9155 - val_loss: 4.0801 - val_accuracy: 0.5117\n",
            "Epoch 72/100\n",
            "8/8 [==============================] - 20s 2s/step - loss: 0.2208 - accuracy: 0.8988 - val_loss: 2.2355 - val_accuracy: 0.6250\n",
            "Epoch 73/100\n",
            "8/8 [==============================] - 20s 2s/step - loss: 0.1489 - accuracy: 0.9455 - val_loss: 3.6832 - val_accuracy: 0.5469\n",
            "Epoch 74/100\n",
            "8/8 [==============================] - 20s 2s/step - loss: 0.2224 - accuracy: 0.9055 - val_loss: 2.6731 - val_accuracy: 0.5898\n",
            "Epoch 75/100\n",
            "8/8 [==============================] - 20s 2s/step - loss: 0.2062 - accuracy: 0.9143 - val_loss: 3.2759 - val_accuracy: 0.5469\n",
            "Epoch 76/100\n",
            "8/8 [==============================] - 20s 2s/step - loss: 0.1684 - accuracy: 0.9288 - val_loss: 2.1030 - val_accuracy: 0.6562\n",
            "Epoch 77/100\n",
            "8/8 [==============================] - 20s 2s/step - loss: 0.1762 - accuracy: 0.9266 - val_loss: 2.7873 - val_accuracy: 0.6133\n",
            "Epoch 78/100\n",
            "8/8 [==============================] - 20s 2s/step - loss: 0.1677 - accuracy: 0.9288 - val_loss: 2.3947 - val_accuracy: 0.6250\n",
            "Epoch 79/100\n",
            "8/8 [==============================] - 20s 2s/step - loss: 0.2103 - accuracy: 0.9121 - val_loss: 2.2059 - val_accuracy: 0.6484\n",
            "Epoch 80/100\n",
            "8/8 [==============================] - 20s 3s/step - loss: 0.2660 - accuracy: 0.8977 - val_loss: 2.4720 - val_accuracy: 0.6094\n",
            "Epoch 81/100\n",
            "8/8 [==============================] - 20s 2s/step - loss: 0.1330 - accuracy: 0.9522 - val_loss: 3.1025 - val_accuracy: 0.5820\n",
            "Epoch 82/100\n",
            "8/8 [==============================] - 20s 2s/step - loss: 0.1393 - accuracy: 0.9522 - val_loss: 1.6743 - val_accuracy: 0.6875\n",
            "Epoch 83/100\n",
            "8/8 [==============================] - 20s 2s/step - loss: 0.1599 - accuracy: 0.9433 - val_loss: 2.3617 - val_accuracy: 0.6523\n",
            "Epoch 84/100\n",
            "8/8 [==============================] - 22s 3s/step - loss: 0.1565 - accuracy: 0.9307 - val_loss: 2.6785 - val_accuracy: 0.6328\n",
            "Epoch 85/100\n",
            "8/8 [==============================] - 20s 2s/step - loss: 0.1651 - accuracy: 0.9255 - val_loss: 3.1160 - val_accuracy: 0.5781\n",
            "Epoch 86/100\n",
            "8/8 [==============================] - 20s 2s/step - loss: 0.1542 - accuracy: 0.9388 - val_loss: 2.3726 - val_accuracy: 0.6523\n",
            "Epoch 87/100\n",
            "8/8 [==============================] - 20s 2s/step - loss: 0.1688 - accuracy: 0.9244 - val_loss: 3.8367 - val_accuracy: 0.5430\n",
            "Epoch 88/100\n",
            "8/8 [==============================] - 20s 2s/step - loss: 0.1859 - accuracy: 0.9155 - val_loss: 3.1148 - val_accuracy: 0.5977\n",
            "Epoch 89/100\n",
            "8/8 [==============================] - 20s 2s/step - loss: 0.2233 - accuracy: 0.9099 - val_loss: 1.8288 - val_accuracy: 0.6602\n",
            "Epoch 90/100\n",
            "8/8 [==============================] - 20s 3s/step - loss: 0.1358 - accuracy: 0.9466 - val_loss: 2.7160 - val_accuracy: 0.6172\n",
            "Epoch 91/100\n",
            "8/8 [==============================] - 20s 2s/step - loss: 0.1560 - accuracy: 0.9333 - val_loss: 2.1307 - val_accuracy: 0.6758\n",
            "Epoch 92/100\n",
            "8/8 [==============================] - 20s 2s/step - loss: 0.1263 - accuracy: 0.9533 - val_loss: 2.8417 - val_accuracy: 0.6172\n",
            "Epoch 93/100\n",
            "8/8 [==============================] - 20s 2s/step - loss: 0.1100 - accuracy: 0.9600 - val_loss: 2.9292 - val_accuracy: 0.6289\n",
            "Epoch 94/100\n",
            "8/8 [==============================] - 20s 2s/step - loss: 0.1955 - accuracy: 0.9244 - val_loss: 2.4054 - val_accuracy: 0.6602\n",
            "Epoch 95/100\n",
            "8/8 [==============================] - 20s 2s/step - loss: 0.1139 - accuracy: 0.9588 - val_loss: 2.5698 - val_accuracy: 0.6523\n",
            "Epoch 96/100\n",
            "8/8 [==============================] - 20s 2s/step - loss: 0.1180 - accuracy: 0.9555 - val_loss: 2.0563 - val_accuracy: 0.6836\n",
            "Epoch 97/100\n",
            "8/8 [==============================] - 20s 2s/step - loss: 0.1695 - accuracy: 0.9210 - val_loss: 3.2685 - val_accuracy: 0.5977\n",
            "Epoch 98/100\n",
            "8/8 [==============================] - 20s 2s/step - loss: 0.1362 - accuracy: 0.9433 - val_loss: 3.0352 - val_accuracy: 0.6094\n",
            "Epoch 99/100\n",
            "8/8 [==============================] - 20s 2s/step - loss: 0.1223 - accuracy: 0.9577 - val_loss: 4.9780 - val_accuracy: 0.5430\n",
            "Epoch 100/100\n",
            "8/8 [==============================] - 20s 2s/step - loss: 0.1539 - accuracy: 0.9410 - val_loss: 2.6351 - val_accuracy: 0.6445\n"
          ],
          "name": "stdout"
        }
      ]
    },
    {
      "cell_type": "code",
      "metadata": {
        "colab": {
          "base_uri": "https://localhost:8080/",
          "height": 545
        },
        "id": "7zNPRWOVJdOH",
        "outputId": "b4b9e1f1-13c0-43ac-f3f3-c86492b15add"
      },
      "source": [
        "import matplotlib.pyplot as plt\n",
        "acc = history.history['accuracy']\n",
        "val_acc = history.history['val_accuracy']\n",
        "loss = history.history['loss']\n",
        "val_loss = history.history['val_loss']\n",
        "\n",
        "epochs = range(len(acc))\n",
        "\n",
        "plt.plot(epochs, acc, 'r', label='Training accuracy')\n",
        "plt.plot(epochs, val_acc, 'b', label='Validation accuracy')\n",
        "plt.title('Training and validation accuracy')\n",
        "\n",
        "plt.figure()\n",
        "\n",
        "plt.plot(epochs, loss, 'r', label='Training Loss')\n",
        "plt.plot(epochs, val_loss, 'b', label='Validation Loss')\n",
        "plt.title('Training and validation loss')\n",
        "plt.legend()\n",
        "\n",
        "plt.show()"
      ],
      "execution_count": 8,
      "outputs": [
        {
          "output_type": "display_data",
          "data": {
            "image/png": "[encoded data removed]",
            "text/plain": [
              "<Figure size 432x288 with 1 Axes>"
            ]
          },
          "metadata": {
            "needs_background": "light"
          }
        },
        {
          "output_type": "display_data",
          "data": {
            "image/png": "[encoded data removed]",
            "text/plain": [
              "<Figure size 432x288 with 1 Axes>"
            ]
          },
          "metadata": {
            "needs_background": "light"
          }
        }
      ]
    }
  ]
}